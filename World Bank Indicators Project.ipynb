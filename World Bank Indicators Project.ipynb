{
 "cells": [
  {
   "cell_type": "code",
   "execution_count": null,
   "id": "40444e34",
   "metadata": {},
   "outputs": [],
   "source": [
    "'''This code was created to manipulate a large data file for my midterm Data Visualization project. By more managably \n",
    "formatting the table I was able to quickly generate visualizations in Tableau to support my research hypothesis, \n",
    "'There is a positive correlation between the proportion of seats held by women in national parliaments \n",
    "and their country’s GDP/GNI.'''"
   ]
  },
  {
   "cell_type": "code",
   "execution_count": null,
   "id": "ed56465e",
   "metadata": {},
   "outputs": [],
   "source": [
    "#Import libraries and dataframe\n",
    "\n",
    "import pandas as pd\n",
    "import numpy as np\n",
    "import matplotlib.pyplot as plt\n",
    "\n",
    "#Data can be found at this link: https://datacatalog.worldbank.org/search/dataset/0037712\n",
    "df = pd.read_csv(#filepath)"
   ]
  },
  {
   "cell_type": "code",
   "execution_count": null,
   "id": "a7c0f1d2",
   "metadata": {},
   "outputs": [],
   "source": [
    "#Getting an idea of what the data looks like\n",
    "df.head()"
   ]
  },
  {
   "cell_type": "code",
   "execution_count": null,
   "id": "e3ae7ca9",
   "metadata": {},
   "outputs": [],
   "source": [
    "#Summary stats for column data counts\n",
    "df.describe()"
   ]
  },
  {
   "cell_type": "code",
   "execution_count": null,
   "id": "47bf79f0",
   "metadata": {},
   "outputs": [],
   "source": [
    "#Based on previous data extracts there may be a weird signature at the bottom of the data. Checking to see if it's there.\n",
    "#Doesn't appear to have signature, but there are many non-countries in country names\n",
    "df['Country Name'].unique()\n",
    "\n",
    "'''Given the number of entries in \"Country Names\" which were not country names, it was necessary to identify which additional \n",
    "fields could be relevent to my hypothesis. I researched all country name entries I wasn't familiar with (e.g., Early-demographic\n",
    "dividend and IBRD only) and compiled a list of entries to keep.'''"
   ]
  },
  {
   "cell_type": "code",
   "execution_count": null,
   "id": "3262828e",
   "metadata": {},
   "outputs": [],
   "source": [
    "#Creating list of country names which I'd like to keep\n",
    "keeper_rows = ['Africa Eastern and Southern',\n",
    "       'Africa Western and Central',\n",
    "       'Arab World', 'Caribbean small states',\n",
    "       'Central Europe and the Baltics', \n",
    "       'East Asia & Pacific',\n",
    "       'Euro area',\n",
    "       'Europe & Central Asia',\n",
    "       'European Union',\n",
    "       'High income',\n",
    "       'Latin America & Caribbean',\n",
    "       'Low & middle income', 'Low income', 'Lower middle income',\n",
    "       'Middle East & North Africa',\n",
    "       'Middle income', 'North America', 'Not classified', \n",
    "       'Other small states', 'Pacific island small states',\n",
    "       'Small states', 'South Asia', \n",
    "       'Sub-Saharan Africa', 'Upper middle income',\n",
    "       'World', 'Afghanistan', 'Albania', 'Algeria', 'American Samoa',\n",
    "       'Andorra', 'Angola', 'Antigua and Barbuda', 'Argentina', 'Armenia',\n",
    "       'Aruba', 'Australia', 'Austria', 'Azerbaijan', 'Bahamas, The',\n",
    "       'Bahrain', 'Bangladesh', 'Barbados', 'Belarus', 'Belgium',\n",
    "       'Belize', 'Benin', 'Bermuda', 'Bhutan', 'Bolivia',\n",
    "       'Bosnia and Herzegovina', 'Botswana', 'Brazil',\n",
    "       'British Virgin Islands', 'Brunei Darussalam', 'Bulgaria',\n",
    "       'Burkina Faso', 'Burundi', 'Cabo Verde', 'Cambodia', 'Cameroon',\n",
    "       'Canada', 'Cayman Islands', 'Central African Republic', 'Chad',\n",
    "       'Channel Islands', 'Chile', 'China', 'Colombia', 'Comoros',\n",
    "       'Congo, Dem. Rep.', 'Congo, Rep.', 'Costa Rica', \"Cote d'Ivoire\",\n",
    "       'Croatia', 'Cuba', 'Curacao', 'Cyprus', 'Czech Republic',\n",
    "       'Denmark', 'Djibouti', 'Dominica', 'Dominican Republic', 'Ecuador',\n",
    "       'Egypt, Arab Rep.', 'El Salvador', 'Equatorial Guinea', 'Eritrea',\n",
    "       'Estonia', 'Eswatini', 'Ethiopia', 'Faroe Islands', 'Fiji',\n",
    "       'Finland', 'France', 'French Polynesia', 'Gabon', 'Gambia, The',\n",
    "       'Georgia', 'Germany', 'Ghana', 'Gibraltar', 'Greece', 'Greenland',\n",
    "       'Grenada', 'Guam', 'Guatemala', 'Guinea', 'Guinea-Bissau',\n",
    "       'Guyana', 'Haiti', 'Honduras', 'Hong Kong SAR, China', 'Hungary',\n",
    "       'Iceland', 'India', 'Indonesia', 'Iran, Islamic Rep.', 'Iraq',\n",
    "       'Ireland', 'Isle of Man', 'Israel', 'Italy', 'Jamaica', 'Japan',\n",
    "       'Jordan', 'Kazakhstan', 'Kenya', 'Kiribati',\n",
    "       \"Korea, Dem. People's Rep.\", 'Korea, Rep.', 'Kosovo', 'Kuwait',\n",
    "       'Kyrgyz Republic', 'Lao PDR', 'Latvia', 'Lebanon', 'Lesotho',\n",
    "       'Liberia', 'Libya', 'Liechtenstein', 'Lithuania', 'Luxembourg',\n",
    "       'Macao SAR, China', 'Madagascar', 'Malawi', 'Malaysia', 'Maldives',\n",
    "       'Mali', 'Malta', 'Marshall Islands', 'Mauritania', 'Mauritius',\n",
    "       'Mexico', 'Micronesia, Fed. Sts.', 'Moldova', 'Monaco', 'Mongolia',\n",
    "       'Montenegro', 'Morocco', 'Mozambique', 'Myanmar', 'Namibia',\n",
    "       'Nauru', 'Nepal', 'Netherlands', 'New Caledonia', 'New Zealand',\n",
    "       'Nicaragua', 'Niger', 'Nigeria', 'North Macedonia',\n",
    "       'Northern Mariana Islands', 'Norway', 'Oman', 'Pakistan', 'Palau',\n",
    "       'Panama', 'Papua New Guinea', 'Paraguay', 'Peru', 'Philippines',\n",
    "       'Poland', 'Portugal', 'Puerto Rico', 'Qatar', 'Romania',\n",
    "       'Russian Federation', 'Rwanda', 'Samoa', 'San Marino',\n",
    "       'Sao Tome and Principe', 'Saudi Arabia', 'Senegal', 'Serbia',\n",
    "       'Seychelles', 'Sierra Leone', 'Singapore',\n",
    "       'Sint Maarten (Dutch part)', 'Slovak Republic', 'Slovenia',\n",
    "       'Solomon Islands', 'Somalia', 'South Africa', 'South Sudan',\n",
    "       'Spain', 'Sri Lanka', 'St. Kitts and Nevis', 'St. Lucia',\n",
    "       'St. Martin (French part)', 'St. Vincent and the Grenadines',\n",
    "       'Sudan', 'Suriname', 'Sweden', 'Switzerland',\n",
    "       'Syrian Arab Republic', 'Tajikistan', 'Tanzania', 'Thailand',\n",
    "       'Timor-Leste', 'Togo', 'Tonga', 'Trinidad and Tobago', 'Tunisia',\n",
    "       'Turkiye', 'Turkmenistan', 'Turks and Caicos Islands', 'Tuvalu',\n",
    "       'Uganda', 'Ukraine', 'United Arab Emirates', 'United Kingdom',\n",
    "       'United States', 'Uruguay', 'Uzbekistan', 'Vanuatu',\n",
    "       'Venezuela, RB', 'Vietnam', 'Virgin Islands (U.S.)',\n",
    "       'West Bank and Gaza', 'Yemen, Rep.', 'Zambia', 'Zimbabwe']\n",
    "\n",
    "#Creating new df with relevent country names\n",
    "df_countriesagg = df[df['Country Name'].isin(keeper_rows)]"
   ]
  },
  {
   "cell_type": "code",
   "execution_count": null,
   "id": "bf772dac",
   "metadata": {},
   "outputs": [],
   "source": [
    "#Verifying correct rows in new dataframe\n",
    "df_countriesagg['Country Name'].unique()"
   ]
  },
  {
   "cell_type": "code",
   "execution_count": null,
   "id": "1c67114d",
   "metadata": {},
   "outputs": [],
   "source": [
    "#Examining all columns to evaluate which ones should be kept\n",
    "df_countriesagg.head()"
   ]
  },
  {
   "cell_type": "code",
   "execution_count": null,
   "id": "01f2dc9f",
   "metadata": {},
   "outputs": [],
   "source": [
    "#Remove the indicator code column and create new df\n",
    "df_noindcode = df_countriesagg.drop(labels = 'Indicator Code', axis = 1)"
   ]
  },
  {
   "cell_type": "code",
   "execution_count": null,
   "id": "b72a2abf",
   "metadata": {},
   "outputs": [],
   "source": [
    "#Checking if the remove worked\n",
    "df_noindcode.head()"
   ]
  },
  {
   "cell_type": "code",
   "execution_count": null,
   "id": "6f1a921d",
   "metadata": {},
   "outputs": [],
   "source": [
    "#Making the Date Columns into Rows\n",
    "df_melted = df_noindcode.melt(id_vars = ['Country Name', 'Country Code', 'Indicator Name'], var_name = 'Year',\n",
    "                             value_name = \"Value\")"
   ]
  },
  {
   "cell_type": "code",
   "execution_count": null,
   "id": "286839ac",
   "metadata": {},
   "outputs": [],
   "source": [
    "#Verifying the melt worked correctly\n",
    "df_melted.head()"
   ]
  },
  {
   "cell_type": "code",
   "execution_count": null,
   "id": "01cc0864",
   "metadata": {},
   "outputs": [],
   "source": [
    "#Shifting Indicator Name row to column\n",
    "df_pivot = df_melted.pivot(index = ['Country Name','Country Code','Year'], columns = 'Indicator Name', \n",
    "                           values = 'Value').reset_index()"
   ]
  },
  {
   "cell_type": "code",
   "execution_count": null,
   "id": "f01fabda",
   "metadata": {},
   "outputs": [],
   "source": [
    "#Verifying the pivot worked\n",
    "df_pivot.head(15)"
   ]
  },
  {
   "cell_type": "code",
   "execution_count": null,
   "id": "7f7d5e68",
   "metadata": {},
   "outputs": [],
   "source": [
    "#Removing the extra index of Indicator Name\n",
    "df_pivot = df_pivot.rename_axis(\"ID\", axis=1)"
   ]
  },
  {
   "cell_type": "code",
   "execution_count": null,
   "id": "9b32670b",
   "metadata": {},
   "outputs": [],
   "source": [
    "#Verifying the index remove worked\n",
    "df_pivot.head(15)"
   ]
  },
  {
   "cell_type": "code",
   "execution_count": null,
   "id": "b63f48d2",
   "metadata": {},
   "outputs": [],
   "source": [
    "#Creating a df with only the columns I want\n",
    "col_to_keep = ['Country Name','Country Code','Year',\n",
    "               'GDP per capita (constant 2015 US$)',\n",
    "               'GDP per capita growth (annual %)', \n",
    "               'GDP growth (annual %)',\n",
    "               'GNI growth (annual %)',\n",
    "               'GNI per capita (constant 2015 US$)',\n",
    "               'GNI per capita growth (annual %)',\n",
    "               'Proportion of seats held by women in national parliaments (%)'\n",
    "               ]\n",
    "\n",
    "#New df with relevent hypothesis columns\n",
    "df_keepercol = df_pivot.filter(items = col_to_keep)"
   ]
  },
  {
   "cell_type": "code",
   "execution_count": null,
   "id": "f380fb33",
   "metadata": {},
   "outputs": [],
   "source": [
    "#Inspecting df_keepercol\n",
    "df_keepercol.head()"
   ]
  },
  {
   "cell_type": "code",
   "execution_count": null,
   "id": "79a07e84",
   "metadata": {},
   "outputs": [],
   "source": [
    "#Reordering my columns for easier analysis\n",
    "cols = ['Country Name','Country Code','Year',\n",
    "            'Proportion of seats held by women in national parliaments (%)',\n",
    "            'GDP growth (annual %)',    \n",
    "            'GDP per capita (constant 2015 US$)',\n",
    "            'GDP per capita growth (annual %)', \n",
    "            'GNI growth (annual %)',\n",
    "            'GNI per capita (constant 2015 US$)',\n",
    "            'GNI per capita growth (annual %)'\n",
    "            ]\n",
    "\n",
    "df_final = df_keepercol[cols]"
   ]
  },
  {
   "cell_type": "code",
   "execution_count": null,
   "id": "01620395",
   "metadata": {},
   "outputs": [],
   "source": [
    "#Checking final df\n",
    "df_final.head()"
   ]
  },
  {
   "cell_type": "code",
   "execution_count": null,
   "id": "27a4601c",
   "metadata": {},
   "outputs": [],
   "source": [
    "#Adding aggregate column to the dataset for later filtering in Tableau\n",
    "aggregates = ['Africa Eastern and Southern', 'Africa Western and Central',\n",
    "       'Arab World', 'Caribbean small states',\n",
    "       'Central Europe and the Baltics', 'East Asia & Pacific',\n",
    "       'Euro area', 'Europe & Central Asia', 'European Union',\n",
    "       'High income', 'Latin America & Caribbean', 'Low & middle income',\n",
    "       'Low income', 'Lower middle income', 'Middle East & North Africa',\n",
    "       'Middle income', 'North America', 'Not classified',\n",
    "       'Other small states', 'Pacific island small states',\n",
    "       'Small states', 'South Asia', 'Sub-Saharan Africa',\n",
    "       'Upper middle income', 'World']\n",
    "\n",
    "#Creating the aggregate indicator column\n",
    "new_col_values = np.where(df_final.loc[:,'Country Name'].isin(aggregates),'Aggregate','Country')\n",
    "df_final.insert(3, \"Aggregate Indicator\", new_col_values, allow_duplicates = False)"
   ]
  },
  {
   "cell_type": "code",
   "execution_count": null,
   "id": "c066fbde",
   "metadata": {},
   "outputs": [],
   "source": [
    "#Checking the Aggregate field worked\n",
    "df_final.head(5)"
   ]
  },
  {
   "cell_type": "code",
   "execution_count": null,
   "id": "c42c0448",
   "metadata": {},
   "outputs": [],
   "source": [
    "#Checking the country names in each aggregate category\n",
    "countries_df = df_final.loc[df_final['Aggregate Indicator'] == 'Country', 'Country Name']\n",
    "country_names = countries_df.unique()\n",
    "len(country_names)\n",
    "#All the countries have been correctly categorized, there should be 217"
   ]
  },
  {
   "cell_type": "code",
   "execution_count": null,
   "id": "b118b3f8",
   "metadata": {},
   "outputs": [],
   "source": [
    "#Checking the aggregates in the aggregate category\n",
    "aggregates_df = df_final.loc[df_final['Aggregate Indicator'] == 'Aggregate', 'Country Name']\n",
    "aggregate_names = aggregates_df.unique()\n",
    "len(aggregate_names)\n",
    "\n",
    "#Checking what values specifically are in the aggregates since I removed a number of them due to hypothesis irrevelence\n",
    "aggregates_df.unique()"
   ]
  },
  {
   "cell_type": "code",
   "execution_count": null,
   "id": "ba3a1f64",
   "metadata": {},
   "outputs": [],
   "source": [
    "#Looking into the Unnamed Rows\n",
    "df_unnamed = df_final[df_final['Year']==\"Unnamed: 66\"]\n",
    "df_unnamed\n",
    "\n",
    "#Removing the unnamed rows\n",
    "df_final = df_final[df_final[\"Year\"]!= \"Unnamed: 66\"]\n",
    "df_final.describe()\n",
    "df_final.info()"
   ]
  },
  {
   "cell_type": "code",
   "execution_count": null,
   "id": "fec60be3",
   "metadata": {},
   "outputs": [],
   "source": [
    "#Saving to CSV\n",
    "df_final.to_csv(#filepath)"
   ]
  }
 ],
 "metadata": {
  "kernelspec": {
   "display_name": "Python 3 (ipykernel)",
   "language": "python",
   "name": "python3"
  },
  "language_info": {
   "codemirror_mode": {
    "name": "ipython",
    "version": 3
   },
   "file_extension": ".py",
   "mimetype": "text/x-python",
   "name": "python",
   "nbconvert_exporter": "python",
   "pygments_lexer": "ipython3",
   "version": "3.9.12"
  }
 },
 "nbformat": 4,
 "nbformat_minor": 5
}
